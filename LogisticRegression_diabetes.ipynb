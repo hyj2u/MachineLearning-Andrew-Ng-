{
 "cells": [
  {
   "cell_type": "code",
   "execution_count": 1,
   "metadata": {},
   "outputs": [],
   "source": [
    "import numpy as np\n",
    "import tensorflow as tf"
   ]
  },
  {
   "cell_type": "code",
   "execution_count": 2,
   "metadata": {},
   "outputs": [],
   "source": [
    "xy = np.loadtxt('data-diabetes.csv', delimiter=',', dtype=np.float32)\n",
    "x_data = xy[:,0:-1]\n",
    "y_data =xy[:,[-1]]"
   ]
  },
  {
   "cell_type": "code",
   "execution_count": 3,
   "metadata": {},
   "outputs": [],
   "source": [
    "X = tf.placeholder(tf.float32, shape=[None, 8])\n",
    "Y = tf.placeholder(tf.float32, shape =[None, 1])"
   ]
  },
  {
   "cell_type": "code",
   "execution_count": 4,
   "metadata": {},
   "outputs": [
    {
     "name": "stdout",
     "output_type": "stream",
     "text": [
      "WARNING:tensorflow:From C:\\Users\\younjin\\Anaconda3\\lib\\site-packages\\tensorflow\\python\\framework\\op_def_library.py:263: colocate_with (from tensorflow.python.framework.ops) is deprecated and will be removed in a future version.\n",
      "Instructions for updating:\n",
      "Colocations handled automatically by placer.\n"
     ]
    }
   ],
   "source": [
    "W = tf.Variable(tf.random_normal([8,1]), name='weight')\n",
    "b = tf.Variable(tf.random_normal([1]),name='bias')"
   ]
  },
  {
   "cell_type": "code",
   "execution_count": 5,
   "metadata": {},
   "outputs": [],
   "source": [
    "hypothesis = tf.sigmoid(tf.matmul(X,W)+b)"
   ]
  },
  {
   "cell_type": "code",
   "execution_count": 6,
   "metadata": {},
   "outputs": [],
   "source": [
    "cost = -tf.reduce_mean(Y* tf.log(hypothesis)+(1-Y) * tf.log(1-hypothesis))\n",
    "train = tf.train.GradientDescentOptimizer(learning_rate=0.01).minimize(cost)"
   ]
  },
  {
   "cell_type": "code",
   "execution_count": 7,
   "metadata": {},
   "outputs": [],
   "source": [
    "predicted = tf.cast(hypothesis>0.5, dtype=tf.float32)\n",
    "accuracy = tf.reduce_mean(tf.cast(tf.equal(predicted,Y), dtype=tf.float32))"
   ]
  },
  {
   "cell_type": "code",
   "execution_count": 9,
   "metadata": {},
   "outputs": [
    {
     "name": "stdout",
     "output_type": "stream",
     "text": [
      "0 0.8063121\n",
      "200 0.69763863\n",
      "400 0.66522896\n",
      "600 0.6489707\n",
      "800 0.63654494\n",
      "1000 0.6255745\n",
      "1200 0.6154839\n",
      "1400 0.60604835\n",
      "1600 0.5971356\n",
      "1800 0.5886525\n",
      "2000 0.5805297\n",
      "2200 0.5727146\n",
      "2400 0.5651669\n",
      "2600 0.55785507\n",
      "2800 0.5507545\n",
      "3000 0.54384565\n",
      "3200 0.53711283\n",
      "3400 0.5305432\n",
      "3600 0.5241263\n",
      "3800 0.51785314\n",
      "4000 0.51171637\n",
      "4200 0.5057094\n",
      "4400 0.49982667\n",
      "4600 0.49406323\n",
      "4800 0.48841456\n",
      "5000 0.48287648\n",
      "5200 0.47744572\n",
      "5400 0.4721188\n",
      "5600 0.46689227\n",
      "5800 0.46176356\n",
      "6000 0.45672956\n",
      "6200 0.45178804\n",
      "6400 0.44693616\n",
      "6600 0.4421718\n",
      "6800 0.43749273\n",
      "7000 0.43289667\n",
      "7200 0.42838153\n",
      "7400 0.42394555\n",
      "7600 0.41958654\n",
      "7800 0.4153028\n",
      "8000 0.41109258\n",
      "8200 0.4069541\n",
      "8400 0.40288574\n",
      "8600 0.39888585\n",
      "8800 0.39495292\n",
      "9000 0.39108536\n",
      "9200 0.38728178\n",
      "9400 0.38354072\n",
      "9600 0.37986082\n",
      "9800 0.37624064\n",
      "10000 0.37267905\n",
      "\n",
      "Hypothesis:  [[0.6713027 ]\n",
      " [0.22272548]\n",
      " [0.683771  ]\n",
      " [0.06560054]\n",
      " [0.33969554]\n",
      " [0.7771945 ]\n",
      " [0.5197914 ]\n",
      " [0.61736274]] \n",
      "Correct (Y):  [[1.]\n",
      " [0.]\n",
      " [1.]\n",
      " [0.]\n",
      " [0.]\n",
      " [1.]\n",
      " [1.]\n",
      " [1.]] \n",
      "Accuracy:  0.875\n"
     ]
    }
   ],
   "source": [
    "with tf.Session() as sess:\n",
    "    sess.run(tf.global_variables_initializer())\n",
    "    feed = {X:x_data, Y: y_data}\n",
    "    for step in range (10001):\n",
    "        sess.run(train, feed_dict=feed)\n",
    "        if step % 200 ==0:\n",
    "            print(step, sess.run(cost, feed_dict=feed))\n",
    "            \n",
    "    h,c,a = sess.run([hypothesis, predicted, accuracy], feed_dict=feed)\n",
    "    print(\"\\nHypothesis: \",h,\"\\nCorrect (Y): \",c, \"\\nAccuracy: \",a)"
   ]
  },
  {
   "cell_type": "code",
   "execution_count": null,
   "metadata": {},
   "outputs": [],
   "source": []
  }
 ],
 "metadata": {
  "kernelspec": {
   "display_name": "Python 3",
   "language": "python",
   "name": "python3"
  },
  "language_info": {
   "codemirror_mode": {
    "name": "ipython",
    "version": 3
   },
   "file_extension": ".py",
   "mimetype": "text/x-python",
   "name": "python",
   "nbconvert_exporter": "python",
   "pygments_lexer": "ipython3",
   "version": "3.7.3"
  }
 },
 "nbformat": 4,
 "nbformat_minor": 2
}
