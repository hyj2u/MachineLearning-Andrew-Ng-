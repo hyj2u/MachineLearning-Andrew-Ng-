{
 "cells": [
  {
   "cell_type": "code",
   "execution_count": 1,
   "metadata": {},
   "outputs": [],
   "source": [
    "import tensorflow as tf"
   ]
  },
  {
   "cell_type": "code",
   "execution_count": 4,
   "metadata": {},
   "outputs": [],
   "source": [
    "x_data = [[1,2],[2,3],[3,1],[4,3],[5,3],[6,2]]\n",
    "y_data = [[0],[0],[0],[1],[1],[1]]"
   ]
  },
  {
   "cell_type": "code",
   "execution_count": 18,
   "metadata": {},
   "outputs": [],
   "source": [
    "X = tf.placeholder(tf.float32, shape=[None, 2])\n",
    "Y = tf.placeholder(tf.float32, shape=[None, 1])"
   ]
  },
  {
   "cell_type": "code",
   "execution_count": 19,
   "metadata": {},
   "outputs": [],
   "source": [
    "W= tf.Variable(tf.random_normal([2,1]), name='weight')\n",
    "b = tf.Variable(tf.random_normal([1]), name='bias')"
   ]
  },
  {
   "cell_type": "code",
   "execution_count": 20,
   "metadata": {},
   "outputs": [],
   "source": [
    "hypothesis = tf.sigmoid(tf.matmul(X,W)+b)"
   ]
  },
  {
   "cell_type": "code",
   "execution_count": 25,
   "metadata": {},
   "outputs": [],
   "source": [
    "cost = -tf.reduce_mean(Y*tf.log(hypothesis) + (1-Y)*tf.log(1-hypothesis))\n",
    "train = tf.train.GradientDescentOptimizer(learning_rate=0.01).minimize(cost)"
   ]
  },
  {
   "cell_type": "code",
   "execution_count": 26,
   "metadata": {},
   "outputs": [],
   "source": [
    "predicted = tf.cast(hypothesis >0.5, dtype=tf.float32)\n",
    "accuracy = tf.reduce_mean(tf.cast(tf.equal(predicted, Y), dtype=tf.float32))"
   ]
  },
  {
   "cell_type": "code",
   "execution_count": 27,
   "metadata": {},
   "outputs": [
    {
     "name": "stdout",
     "output_type": "stream",
     "text": [
      "0 1.6551433\n",
      "200 0.7618477\n",
      "400 0.6473337\n",
      "600 0.58990747\n",
      "800 0.55400735\n",
      "1000 0.5273301\n",
      "1200 0.5052002\n",
      "1400 0.48564318\n",
      "1600 0.46775028\n",
      "1800 0.45107245\n",
      "2000 0.43537316\n",
      "2200 0.42051807\n",
      "2400 0.40642455\n",
      "2600 0.39303544\n",
      "2800 0.38030753\n",
      "3000 0.36820427\n",
      "3200 0.3566929\n",
      "3400 0.3457432\n",
      "3600 0.33532605\n",
      "3800 0.32541353\n",
      "4000 0.31597888\n",
      "4200 0.30699638\n",
      "4400 0.29844096\n",
      "4600 0.29028925\n",
      "4800 0.28251854\n",
      "5000 0.27510753\n",
      "5200 0.2680358\n",
      "5400 0.2612841\n",
      "5600 0.25483432\n",
      "5800 0.2486695\n",
      "6000 0.24277337\n",
      "6200 0.23713094\n",
      "6400 0.23172796\n",
      "6600 0.22655106\n",
      "6800 0.22158784\n",
      "7000 0.2168265\n",
      "7200 0.21225615\n",
      "7400 0.20786637\n",
      "7600 0.20364763\n",
      "7800 0.19959074\n",
      "8000 0.19568728\n",
      "8200 0.19192924\n",
      "8400 0.18830921\n",
      "8600 0.18482016\n",
      "8800 0.18145554\n",
      "9000 0.1782092\n",
      "9200 0.17507517\n",
      "9400 0.17204815\n",
      "9600 0.16912293\n",
      "9800 0.16629468\n",
      "10000 0.16355887\n",
      "\n",
      "Hypothesis:  [[0.03686991]\n",
      " [0.16640526]\n",
      " [0.3329707 ]\n",
      " [0.7688214 ]\n",
      " [0.93138504]\n",
      " [0.9774604 ]] \n",
      "Correct (Y):  [[0.]\n",
      " [0.]\n",
      " [0.]\n",
      " [1.]\n",
      " [1.]\n",
      " [1.]] \n",
      "Accuracy:  1.0\n"
     ]
    }
   ],
   "source": [
    "with tf.Session() as sess:\n",
    "    sess.run(tf.global_variables_initializer())\n",
    "    \n",
    "    for step in range(10001):\n",
    "        cost_val, _ =sess.run([cost,train], feed_dict={X: x_data, Y: y_data})\n",
    "        if step % 200==0:\n",
    "            print(step, cost_val)\n",
    "    \n",
    "    h,c,a = sess.run([hypothesis, predicted, accuracy], feed_dict={X:x_data,Y:y_data})\n",
    "    print(\"\\nHypothesis: \",h,\"\\nCorrect (Y): \",c, \"\\nAccuracy: \",a)"
   ]
  },
  {
   "cell_type": "code",
   "execution_count": null,
   "metadata": {},
   "outputs": [],
   "source": []
  }
 ],
 "metadata": {
  "kernelspec": {
   "display_name": "Python 3",
   "language": "python",
   "name": "python3"
  },
  "language_info": {
   "codemirror_mode": {
    "name": "ipython",
    "version": 3
   },
   "file_extension": ".py",
   "mimetype": "text/x-python",
   "name": "python",
   "nbconvert_exporter": "python",
   "pygments_lexer": "ipython3",
   "version": "3.7.3"
  }
 },
 "nbformat": 4,
 "nbformat_minor": 2
}
