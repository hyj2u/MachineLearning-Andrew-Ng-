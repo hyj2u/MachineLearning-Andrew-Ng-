{
 "cells": [
  {
   "cell_type": "code",
   "execution_count": 1,
   "metadata": {},
   "outputs": [],
   "source": [
    "import tensorflow as tf\n",
    "import numpy as np"
   ]
  },
  {
   "cell_type": "code",
   "execution_count": 2,
   "metadata": {},
   "outputs": [],
   "source": [
    "xy = np.loadtxt('data-zoo.csv', delimiter=',', dtype=np.float32)\n",
    "x_data= xy[:, 0:-1]\n",
    "y_data=xy[:, [-1]]"
   ]
  },
  {
   "cell_type": "code",
   "execution_count": 3,
   "metadata": {},
   "outputs": [],
   "source": [
    "nb_classes =7"
   ]
  },
  {
   "cell_type": "code",
   "execution_count": 6,
   "metadata": {},
   "outputs": [],
   "source": [
    "X = tf.placeholder(tf.float32,[None, 16])\n",
    "Y = tf.placeholder(tf.int32, [None, 1])"
   ]
  },
  {
   "cell_type": "code",
   "execution_count": 7,
   "metadata": {},
   "outputs": [],
   "source": [
    "Y_one_hot = tf.one_hot(Y,nb_classes)\n",
    "Y_one_hot = tf.reshape(Y_one_hot,[-1,nb_classes])"
   ]
  },
  {
   "cell_type": "code",
   "execution_count": 8,
   "metadata": {},
   "outputs": [
    {
     "name": "stdout",
     "output_type": "stream",
     "text": [
      "WARNING:tensorflow:From C:\\Users\\younjin\\Anaconda3\\lib\\site-packages\\tensorflow\\python\\framework\\op_def_library.py:263: colocate_with (from tensorflow.python.framework.ops) is deprecated and will be removed in a future version.\n",
      "Instructions for updating:\n",
      "Colocations handled automatically by placer.\n"
     ]
    }
   ],
   "source": [
    "W = tf.Variable(tf.random_normal([16, nb_classes]),name='weight')\n",
    "b = tf.Variable(tf.random_normal([nb_classes]), name ='bias')"
   ]
  },
  {
   "cell_type": "code",
   "execution_count": 9,
   "metadata": {},
   "outputs": [],
   "source": [
    "logits = tf.matmul(X,W)+b\n",
    "hypothesis = tf.nn.softmax(logits)"
   ]
  },
  {
   "cell_type": "code",
   "execution_count": 10,
   "metadata": {},
   "outputs": [
    {
     "name": "stdout",
     "output_type": "stream",
     "text": [
      "WARNING:tensorflow:From <ipython-input-10-33151fcd5940>:1: softmax_cross_entropy_with_logits (from tensorflow.python.ops.nn_ops) is deprecated and will be removed in a future version.\n",
      "Instructions for updating:\n",
      "\n",
      "Future major versions of TensorFlow will allow gradients to flow\n",
      "into the labels input on backprop by default.\n",
      "\n",
      "See `tf.nn.softmax_cross_entropy_with_logits_v2`.\n",
      "\n"
     ]
    }
   ],
   "source": [
    "cost_i = tf.nn.softmax_cross_entropy_with_logits(logits=logits, labels=Y_one_hot)"
   ]
  },
  {
   "cell_type": "code",
   "execution_count": 11,
   "metadata": {},
   "outputs": [],
   "source": [
    "cost = tf.reduce_mean(cost_i)\n",
    "optimizer = tf.train.GradientDescentOptimizer(learning_rate=0.1).minimize(cost)"
   ]
  },
  {
   "cell_type": "code",
   "execution_count": 12,
   "metadata": {},
   "outputs": [],
   "source": [
    "prediction = tf.argmax(hypothesis,1)\n",
    "correct_prediction = tf.equal(prediction, tf.argmax(Y_one_hot,1))\n",
    "accuracy = tf.reduce_mean(tf.cast(correct_prediction, tf.float32))"
   ]
  },
  {
   "cell_type": "code",
   "execution_count": 19,
   "metadata": {},
   "outputs": [
    {
     "name": "stdout",
     "output_type": "stream",
     "text": [
      "Step:     0\tLoss: 2.971\tAcc: 14.85%\n",
      "Step:   100\tLoss: 0.594\tAcc: 83.17%\n",
      "Step:   200\tLoss: 0.344\tAcc: 92.08%\n",
      "Step:   300\tLoss: 0.244\tAcc: 94.06%\n",
      "Step:   400\tLoss: 0.191\tAcc: 98.02%\n",
      "Step:   500\tLoss: 0.159\tAcc: 99.01%\n",
      "Step:   600\tLoss: 0.137\tAcc: 99.01%\n",
      "Step:   700\tLoss: 0.120\tAcc: 99.01%\n",
      "Step:   800\tLoss: 0.108\tAcc: 99.01%\n",
      "Step:   900\tLoss: 0.098\tAcc: 99.01%\n",
      "Step:  1000\tLoss: 0.089\tAcc: 99.01%\n",
      "Step:  1100\tLoss: 0.082\tAcc: 99.01%\n",
      "Step:  1200\tLoss: 0.077\tAcc: 99.01%\n",
      "Step:  1300\tLoss: 0.071\tAcc: 100.00%\n",
      "Step:  1400\tLoss: 0.067\tAcc: 100.00%\n",
      "Step:  1500\tLoss: 0.063\tAcc: 100.00%\n",
      "Step:  1600\tLoss: 0.060\tAcc: 100.00%\n",
      "Step:  1700\tLoss: 0.056\tAcc: 100.00%\n",
      "Step:  1800\tLoss: 0.054\tAcc: 100.00%\n",
      "Step:  1900\tLoss: 0.051\tAcc: 100.00%\n",
      "[True] Prediction: 0 True Y 0.0\n",
      "[True] Prediction: 0 True Y 0.0\n",
      "[True] Prediction: 3 True Y 3.0\n",
      "[True] Prediction: 0 True Y 0.0\n",
      "[True] Prediction: 0 True Y 0.0\n",
      "[True] Prediction: 0 True Y 0.0\n",
      "[True] Prediction: 0 True Y 0.0\n",
      "[True] Prediction: 3 True Y 3.0\n",
      "[True] Prediction: 3 True Y 3.0\n",
      "[True] Prediction: 0 True Y 0.0\n",
      "[True] Prediction: 0 True Y 0.0\n",
      "[True] Prediction: 1 True Y 1.0\n",
      "[True] Prediction: 3 True Y 3.0\n",
      "[True] Prediction: 6 True Y 6.0\n",
      "[True] Prediction: 6 True Y 6.0\n",
      "[True] Prediction: 6 True Y 6.0\n",
      "[True] Prediction: 1 True Y 1.0\n",
      "[True] Prediction: 0 True Y 0.0\n",
      "[True] Prediction: 3 True Y 3.0\n",
      "[True] Prediction: 0 True Y 0.0\n",
      "[True] Prediction: 1 True Y 1.0\n",
      "[True] Prediction: 1 True Y 1.0\n",
      "[True] Prediction: 0 True Y 0.0\n",
      "[True] Prediction: 1 True Y 1.0\n",
      "[True] Prediction: 5 True Y 5.0\n",
      "[True] Prediction: 4 True Y 4.0\n",
      "[True] Prediction: 4 True Y 4.0\n",
      "[True] Prediction: 0 True Y 0.0\n",
      "[True] Prediction: 0 True Y 0.0\n",
      "[True] Prediction: 0 True Y 0.0\n",
      "[True] Prediction: 5 True Y 5.0\n",
      "[True] Prediction: 0 True Y 0.0\n",
      "[True] Prediction: 0 True Y 0.0\n",
      "[True] Prediction: 1 True Y 1.0\n",
      "[True] Prediction: 3 True Y 3.0\n",
      "[True] Prediction: 0 True Y 0.0\n",
      "[True] Prediction: 0 True Y 0.0\n",
      "[True] Prediction: 1 True Y 1.0\n",
      "[True] Prediction: 3 True Y 3.0\n",
      "[True] Prediction: 5 True Y 5.0\n",
      "[True] Prediction: 5 True Y 5.0\n",
      "[True] Prediction: 1 True Y 1.0\n",
      "[True] Prediction: 5 True Y 5.0\n",
      "[True] Prediction: 1 True Y 1.0\n",
      "[True] Prediction: 0 True Y 0.0\n",
      "[True] Prediction: 0 True Y 0.0\n",
      "[True] Prediction: 6 True Y 6.0\n",
      "[True] Prediction: 0 True Y 0.0\n",
      "[True] Prediction: 0 True Y 0.0\n",
      "[True] Prediction: 0 True Y 0.0\n",
      "[True] Prediction: 0 True Y 0.0\n",
      "[True] Prediction: 5 True Y 5.0\n",
      "[True] Prediction: 4 True Y 4.0\n",
      "[True] Prediction: 6 True Y 6.0\n",
      "[True] Prediction: 0 True Y 0.0\n",
      "[True] Prediction: 0 True Y 0.0\n",
      "[True] Prediction: 1 True Y 1.0\n",
      "[True] Prediction: 1 True Y 1.0\n",
      "[True] Prediction: 1 True Y 1.0\n",
      "[True] Prediction: 1 True Y 1.0\n",
      "[True] Prediction: 3 True Y 3.0\n",
      "[True] Prediction: 3 True Y 3.0\n",
      "[True] Prediction: 2 True Y 2.0\n",
      "[True] Prediction: 0 True Y 0.0\n",
      "[True] Prediction: 0 True Y 0.0\n",
      "[True] Prediction: 0 True Y 0.0\n",
      "[True] Prediction: 0 True Y 0.0\n",
      "[True] Prediction: 0 True Y 0.0\n",
      "[True] Prediction: 0 True Y 0.0\n",
      "[True] Prediction: 0 True Y 0.0\n",
      "[True] Prediction: 0 True Y 0.0\n",
      "[True] Prediction: 1 True Y 1.0\n",
      "[True] Prediction: 6 True Y 6.0\n",
      "[True] Prediction: 3 True Y 3.0\n",
      "[True] Prediction: 0 True Y 0.0\n",
      "[True] Prediction: 0 True Y 0.0\n",
      "[True] Prediction: 2 True Y 2.0\n",
      "[True] Prediction: 6 True Y 6.0\n",
      "[True] Prediction: 1 True Y 1.0\n",
      "[True] Prediction: 1 True Y 1.0\n",
      "[True] Prediction: 2 True Y 2.0\n",
      "[True] Prediction: 6 True Y 6.0\n",
      "[True] Prediction: 3 True Y 3.0\n",
      "[True] Prediction: 1 True Y 1.0\n",
      "[True] Prediction: 0 True Y 0.0\n",
      "[True] Prediction: 6 True Y 6.0\n",
      "[True] Prediction: 3 True Y 3.0\n",
      "[True] Prediction: 1 True Y 1.0\n",
      "[True] Prediction: 5 True Y 5.0\n",
      "[True] Prediction: 4 True Y 4.0\n",
      "[True] Prediction: 2 True Y 2.0\n",
      "[True] Prediction: 2 True Y 2.0\n",
      "[True] Prediction: 3 True Y 3.0\n",
      "[True] Prediction: 0 True Y 0.0\n",
      "[True] Prediction: 0 True Y 0.0\n",
      "[True] Prediction: 1 True Y 1.0\n",
      "[True] Prediction: 0 True Y 0.0\n",
      "[True] Prediction: 5 True Y 5.0\n",
      "[True] Prediction: 0 True Y 0.0\n",
      "[True] Prediction: 6 True Y 6.0\n",
      "[True] Prediction: 1 True Y 1.0\n"
     ]
    }
   ],
   "source": [
    "with tf.Session() as sess:\n",
    "    sess.run(tf.global_variables_initializer())\n",
    "    \n",
    "    for step in range(2000):\n",
    "        sess.run(optimizer, feed_dict={X: x_data, Y: y_data})\n",
    "        if step %100==0:\n",
    "            loss, acc = sess.run([cost,accuracy], feed_dict={X:x_data, Y:y_data})\n",
    "            print(\"Step: {:5}\\tLoss: {:.3f}\\tAcc: {:.2%}\".format(step,loss,acc))\n",
    "            \n",
    "    pred = sess.run(prediction, feed_dict={X:x_data})\n",
    "    \n",
    "    for p, y in zip(pred, y_data.flatten()):\n",
    "        print(\"[{}] Prediction: {} True Y {}\".format(p==int(y), p, y))"
   ]
  },
  {
   "cell_type": "code",
   "execution_count": 18,
   "metadata": {},
   "outputs": [
    {
     "ename": "RuntimeError",
     "evalue": "Attempted to use a closed Session.",
     "output_type": "error",
     "traceback": [
      "\u001b[1;31m---------------------------------------------------------------------------\u001b[0m",
      "\u001b[1;31mRuntimeError\u001b[0m                              Traceback (most recent call last)",
      "\u001b[1;32m<ipython-input-18-9184b3419076>\u001b[0m in \u001b[0;36m<module>\u001b[1;34m\u001b[0m\n\u001b[1;32m----> 1\u001b[1;33m \u001b[0mpred\u001b[0m \u001b[1;33m=\u001b[0m \u001b[0msess\u001b[0m\u001b[1;33m.\u001b[0m\u001b[0mrun\u001b[0m\u001b[1;33m(\u001b[0m\u001b[0mprediction\u001b[0m\u001b[1;33m,\u001b[0m \u001b[0mfeed_dict\u001b[0m\u001b[1;33m=\u001b[0m\u001b[1;33m{\u001b[0m\u001b[0mX\u001b[0m\u001b[1;33m:\u001b[0m\u001b[0mx_data\u001b[0m\u001b[1;33m}\u001b[0m\u001b[1;33m)\u001b[0m\u001b[1;33m\u001b[0m\u001b[1;33m\u001b[0m\u001b[0m\n\u001b[0m",
      "\u001b[1;32m~\\Anaconda3\\lib\\site-packages\\tensorflow\\python\\client\\session.py\u001b[0m in \u001b[0;36mrun\u001b[1;34m(self, fetches, feed_dict, options, run_metadata)\u001b[0m\n\u001b[0;32m    927\u001b[0m     \u001b[1;32mtry\u001b[0m\u001b[1;33m:\u001b[0m\u001b[1;33m\u001b[0m\u001b[1;33m\u001b[0m\u001b[0m\n\u001b[0;32m    928\u001b[0m       result = self._run(None, fetches, feed_dict, options_ptr,\n\u001b[1;32m--> 929\u001b[1;33m                          run_metadata_ptr)\n\u001b[0m\u001b[0;32m    930\u001b[0m       \u001b[1;32mif\u001b[0m \u001b[0mrun_metadata\u001b[0m\u001b[1;33m:\u001b[0m\u001b[1;33m\u001b[0m\u001b[1;33m\u001b[0m\u001b[0m\n\u001b[0;32m    931\u001b[0m         \u001b[0mproto_data\u001b[0m \u001b[1;33m=\u001b[0m \u001b[0mtf_session\u001b[0m\u001b[1;33m.\u001b[0m\u001b[0mTF_GetBuffer\u001b[0m\u001b[1;33m(\u001b[0m\u001b[0mrun_metadata_ptr\u001b[0m\u001b[1;33m)\u001b[0m\u001b[1;33m\u001b[0m\u001b[1;33m\u001b[0m\u001b[0m\n",
      "\u001b[1;32m~\\Anaconda3\\lib\\site-packages\\tensorflow\\python\\client\\session.py\u001b[0m in \u001b[0;36m_run\u001b[1;34m(self, handle, fetches, feed_dict, options, run_metadata)\u001b[0m\n\u001b[0;32m   1073\u001b[0m     \u001b[1;31m# Check session.\u001b[0m\u001b[1;33m\u001b[0m\u001b[1;33m\u001b[0m\u001b[1;33m\u001b[0m\u001b[0m\n\u001b[0;32m   1074\u001b[0m     \u001b[1;32mif\u001b[0m \u001b[0mself\u001b[0m\u001b[1;33m.\u001b[0m\u001b[0m_closed\u001b[0m\u001b[1;33m:\u001b[0m\u001b[1;33m\u001b[0m\u001b[1;33m\u001b[0m\u001b[0m\n\u001b[1;32m-> 1075\u001b[1;33m       \u001b[1;32mraise\u001b[0m \u001b[0mRuntimeError\u001b[0m\u001b[1;33m(\u001b[0m\u001b[1;34m'Attempted to use a closed Session.'\u001b[0m\u001b[1;33m)\u001b[0m\u001b[1;33m\u001b[0m\u001b[1;33m\u001b[0m\u001b[0m\n\u001b[0m\u001b[0;32m   1076\u001b[0m     \u001b[1;32mif\u001b[0m \u001b[0mself\u001b[0m\u001b[1;33m.\u001b[0m\u001b[0mgraph\u001b[0m\u001b[1;33m.\u001b[0m\u001b[0mversion\u001b[0m \u001b[1;33m==\u001b[0m \u001b[1;36m0\u001b[0m\u001b[1;33m:\u001b[0m\u001b[1;33m\u001b[0m\u001b[1;33m\u001b[0m\u001b[0m\n\u001b[0;32m   1077\u001b[0m       raise RuntimeError('The Session graph is empty.  Add operations to the '\n",
      "\u001b[1;31mRuntimeError\u001b[0m: Attempted to use a closed Session."
     ]
    }
   ],
   "source": []
  },
  {
   "cell_type": "code",
   "execution_count": null,
   "metadata": {},
   "outputs": [],
   "source": []
  }
 ],
 "metadata": {
  "kernelspec": {
   "display_name": "Python 3",
   "language": "python",
   "name": "python3"
  },
  "language_info": {
   "codemirror_mode": {
    "name": "ipython",
    "version": 3
   },
   "file_extension": ".py",
   "mimetype": "text/x-python",
   "name": "python",
   "nbconvert_exporter": "python",
   "pygments_lexer": "ipython3",
   "version": "3.7.3"
  }
 },
 "nbformat": 4,
 "nbformat_minor": 2
}
